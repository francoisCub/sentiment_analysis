{
 "cells": [
  {
   "cell_type": "code",
   "execution_count": 6,
   "metadata": {},
   "outputs": [],
   "source": [
    "from data_classes.TextLightningDataModule import TextLightningDataModule\n",
    "from models.ClassifierSystem import LightningClassifier\n",
    "from data_classes.pretrained_embeddings import get_pretrained_embeddings\n",
    "from pytorch_lightning.loggers import TensorBoardLogger, CSVLogger\n",
    "from pytorch_lightning import Trainer\n",
    "from pytorch_lightning.callbacks.early_stopping import EarlyStopping\n"
   ]
  },
  {
   "cell_type": "code",
   "execution_count": 7,
   "metadata": {},
   "outputs": [],
   "source": [
    "# Data and model settings\n",
    "dataset = \"IMDB\"\n",
    "num_class = 2\n",
    "embedding = \"Glove\"\n",
    "max_vectors = 20000\n",
    "dim = 300\n",
    "trunc=234+2*173\n",
    "\n",
    "\n",
    "# Training settings\n",
    "max_epochs=20\n",
    "patience=6\n",
    "monitor=\"Val Loss\"\n",
    "lr=1e-3\n",
    "batch_size=32\n",
    "num_workers=0\n",
    "advanced_metrics=False\n",
    "\n",
    "num_layers=1\n",
    "output_layer_type=\"linear\"\n",
    "\n",
    "# Log file:\n",
    "log_file = \"exp2\"\n",
    "log_file_csv = \"exp2_csv\"\n"
   ]
  },
  {
   "cell_type": "code",
   "execution_count": 8,
   "metadata": {},
   "outputs": [],
   "source": [
    "vocab, vectors = get_pretrained_embeddings(embedding =embedding, max_vectors = max_vectors, dim = dim)"
   ]
  },
  {
   "cell_type": "code",
   "execution_count": 9,
   "metadata": {},
   "outputs": [],
   "source": [
    "imdb_data = TextLightningDataModule(vocab, dataset=dataset, batch_size=batch_size, num_workers=num_workers, trunc=trunc)"
   ]
  },
  {
   "cell_type": "code",
   "execution_count": 10,
   "metadata": {},
   "outputs": [],
   "source": [
    "for model_type in [\"LSTM\", \"GRU\", \"RNN\"]:\n",
    "    for attention_type in [None, \"last_hidden_layer\", \"self\"]:\n",
    "        for hidden_size in [100]:\n",
    "            if attention_type is None:\n",
    "                name = log_file + \"-\" + model_type + \"-none-\" + str(hidden_size)\n",
    "            else:\n",
    "                name = log_file + \"-\" + model_type + \"-\" + attention_type + \"-\" + str(hidden_size)\n",
    "            logger_tensor = TensorBoardLogger(log_file, name=name)\n",
    "            logger_csv = CSVLogger(log_file_csv, name=name)\n",
    "            trainer = Trainer(max_epochs=max_epochs, gpus=1, auto_select_gpus=True, callbacks=[EarlyStopping(monitor=monitor, patience=patience)], logger=[logger_tensor, logger_csv])\n",
    "            classifier = LightningClassifier(num_class=num_class, vocab=vocab, vectors=vectors, embedding_size=dim, learning_rate=lr, num_layers=num_layers, hidden_size=hidden_size, model_type=model_type, attention_type=attention_type, output_layer_type=output_layer_type, advanced_metrics=advanced_metrics)\n",
    "            trainer.fit(classifier, imdb_data)\n",
    "            trainer.test(ckpt_path=\"best\")\n"
   ]
  },
  {
   "cell_type": "code",
   "execution_count": 11,
   "metadata": {},
   "outputs": [],
   "source": [
    "# param_count = {}\n",
    "# pytorch_total_params = sum(p.numel() for p in classifier.parameters() if p.requires_grad)\n",
    "# param_count[name] = pytorch_total_params\n",
    "\n",
    "# {'exp2-LSTM-none-100': 161002,\n",
    "#  'exp2-LSTM-last_hidden_layer-100': 161002,\n",
    "#  'exp2-LSTM-self-100': 161002,\n",
    "#  'exp2-GRU-none-100': 120802,\n",
    "#  'exp2-GRU-last_hidden_layer-100': 120802,\n",
    "#  'exp2-GRU-self-100': 120802,\n",
    "#  'exp2-RNN-none-100': 40402,\n",
    "#  'exp2-RNN-last_hidden_layer-100': 40402,\n",
    "#  'exp2-RNN-self-100': 40402}"
   ]
  }
 ],
 "metadata": {
  "interpreter": {
   "hash": "cfa97515b48ec924051b6584906c775d898061829fcbf4ab570c29d743c4fef7"
  },
  "kernelspec": {
   "display_name": "Python 3.8.12 64-bit ('deep_learning': conda)",
   "name": "python3"
  },
  "language_info": {
   "codemirror_mode": {
    "name": "ipython",
    "version": 3
   },
   "file_extension": ".py",
   "mimetype": "text/x-python",
   "name": "python",
   "nbconvert_exporter": "python",
   "pygments_lexer": "ipython3",
   "version": "3.8.12"
  },
  "orig_nbformat": 4
 },
 "nbformat": 4,
 "nbformat_minor": 2
}
