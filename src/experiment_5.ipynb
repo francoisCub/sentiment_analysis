{
 "cells": [
  {
   "cell_type": "markdown",
   "metadata": {},
   "source": [
    "# Experiment 6: Performance on different datasets (IMDB and Yelp)"
   ]
  },
  {
   "cell_type": "code",
   "execution_count": null,
   "metadata": {},
   "outputs": [],
   "source": [
    "from data_classes.TextLightningDataModule import TextLightningDataModule\n",
    "from models.ClassifierSystem import LightningClassifier\n",
    "from data_classes.pretrained_embeddings import get_pretrained_embeddings\n",
    "from pytorch_lightning.loggers import TensorBoardLogger, CSVLogger\n",
    "from pytorch_lightning import Trainer\n",
    "from pytorch_lightning.callbacks.early_stopping import EarlyStopping\n",
    "\n",
    "from pytorch_lightning.callbacks import ModelCheckpoint\n",
    "import pandas as pd"
   ]
  },
  {
   "cell_type": "code",
   "execution_count": null,
   "metadata": {},
   "outputs": [],
   "source": [
    "# Data and model settings\n",
    "datasets = [(\"IMDB\", 2), (\"Yelp\", 5)]\n",
    "# num_class = 2\n",
    "embeddings = [\"Glove\", \"FastText\", \"Word2Vec\"]\n",
    "max_vectors = 20000\n",
    "dim = 300\n",
    "trunc = 234+2*173\n",
    "\n",
    "\n",
    "# Training settings\n",
    "max_epochs = None\n",
    "max_steps = 20000\n",
    "patience = 6\n",
    "monitor = \"Val Loss\"\n",
    "lr = 1e-3\n",
    "batch_size = 64\n",
    "num_workers = 0\n",
    "advanced_metrics = True\n",
    "\n",
    "model_types = [\"LSTM\", \"GRU\"]\n",
    "embedding_level = \"word\"\n",
    "num_layers = 1\n",
    "output_layer_type = \"linear\"\n",
    "hidden_size = 100\n",
    "\n",
    "# Log file:\n",
    "log_file = \"exp6\"\n",
    "log_file_csv = \"exp6_csv\"\n",
    "model_ckpt_path = \"model_ckpt\"\n"
   ]
  },
  {
   "cell_type": "code",
   "execution_count": null,
   "metadata": {},
   "outputs": [],
   "source": [
    "data = {}\n",
    "vocab = {}\n",
    "vectors = {}"
   ]
  },
  {
   "cell_type": "code",
   "execution_count": null,
   "metadata": {},
   "outputs": [],
   "source": [
    "for dataset, _ in datasets:\n",
    "    for embedding in embeddings:\n",
    "        vocab[embedding], vectors[embedding] = get_pretrained_embeddings(\n",
    "            embedding=embedding, max_vectors=max_vectors, dim=dim)\n",
    "        data[dataset+\"-\"+embedding] = TextLightningDataModule(\n",
    "            vocab[embedding], dataset=dataset, batch_size=batch_size, num_workers=num_workers, trunc=trunc)\n"
   ]
  },
  {
   "cell_type": "code",
   "execution_count": null,
   "metadata": {},
   "outputs": [],
   "source": [
    "for model_type in model_types:  # x2\n",
    "    for attention_type in [None, \"last_hidden_layer\", \"self\"]:  # x3\n",
    "        for dataset, num_class in datasets:  # x2\n",
    "            for embedding in embeddings:  # x3\n",
    "                if attention_type is not None:\n",
    "                    name = log_file + \"-\" + model_type + \"-\" + \\\n",
    "                        attention_type + \"-\" + dataset + \"-\" + \\\n",
    "                        str(num_class) + \"-\" + embedding\n",
    "                else:\n",
    "                    name = log_file + \"-\" + model_type + \"-none-\" + \\\n",
    "                        dataset + \"-\" + str(num_class) + \"-\" + embedding\n",
    "                logger_tensor = TensorBoardLogger(log_file, name=name)\n",
    "                logger_csv = CSVLogger(log_file_csv, name=name)\n",
    "                checkpoint_callback = ModelCheckpoint(\n",
    "                    dirpath=model_ckpt_path+\"/\"+name, monitor=monitor, filename=name+\"-{epoch:02d}\")\n",
    "                actual_patience = patience if dataset == \"IMDB\" else 1\n",
    "                trainer = Trainer(max_epochs=max_epochs, max_steps=max_steps, gpus=1, auto_select_gpus=True, callbacks=[\n",
    "                    EarlyStopping(monitor=monitor, patience=actual_patience), checkpoint_callback], logger=[logger_tensor, logger_csv])\n",
    "                classifier = LightningClassifier(embedding_level=embedding_level, num_class=num_class, vocab=vocab[embedding], vectors=vectors[embedding], embedding_size=dim,\n",
    "                                                 learning_rate=lr, model_type=model_type, output_layer_type=output_layer_type, advanced_metrics=advanced_metrics, attention_type=attention_type, num_layers=num_layers)\n",
    "                trainer.fit(classifier, data[\"-\".join([dataset, embedding])])\n",
    "                trainer.test(ckpt_path=\"best\")\n"
   ]
  },
  {
   "cell_type": "code",
   "execution_count": null,
   "metadata": {},
   "outputs": [],
   "source": [
    "df_list = []\n",
    "for model_type in model_types:  # x2\n",
    "    for attention_type in [None, \"last_hidden_layer\", \"self\"]:  # x3  TODO change\n",
    "        for dataset, num_class in datasets:  # x2 IMDB first only\n",
    "            for embedding in embeddings:  # x3\n",
    "                if attention_type is not None:\n",
    "                    name = log_file + \"-\" + model_type + \"-\" + \\\n",
    "                        attention_type + \"-\" + dataset + \"-\" + \\\n",
    "                        str(num_class) + \"-\" + embedding\n",
    "                else:\n",
    "                    name = log_file + \"-\" + model_type + \"-none-\" + \\\n",
    "                        dataset + \"-\" + str(num_class) + \"-\" + embedding\n",
    "                filename = \"exp6_csv/\"+name+\"/version_0/metrics.csv\"\n",
    "                df = pd.read_csv(filename)\n",
    "                df[\"Model Type\"] = model_type\n",
    "                df[\"Dataset\"] = dataset\n",
    "                df[\"Number of Classes\"] = num_class\n",
    "                df[\"Attention Type\"] = attention_type if attention_type is not None else \"none\"\n",
    "                df[\"Embedding\"] = embedding\n",
    "                df_list.append(df)\n",
    "global_df = pd.concat(df_list)\n",
    "global_df.to_csv(\"results/exp6_all.csv\")"
   ]
  }
 ],
 "metadata": {
  "interpreter": {
   "hash": "cfa97515b48ec924051b6584906c775d898061829fcbf4ab570c29d743c4fef7"
  },
  "kernelspec": {
   "display_name": "Python 3.8.12 64-bit ('deep_learning': conda)",
   "name": "python3"
  },
  "language_info": {
   "codemirror_mode": {
    "name": "ipython",
    "version": 3
   },
   "file_extension": ".py",
   "mimetype": "text/x-python",
   "name": "python",
   "nbconvert_exporter": "python",
   "pygments_lexer": "ipython3",
   "version": "3.9.4"
  },
  "orig_nbformat": 4
 },
 "nbformat": 4,
 "nbformat_minor": 2
}
