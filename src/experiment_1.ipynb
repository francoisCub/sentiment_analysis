{
 "cells": [
  {
   "cell_type": "markdown",
   "metadata": {},
   "source": [
    "# Experiment 1: Hyperparameters"
   ]
  },
  {
   "cell_type": "code",
   "execution_count": null,
   "metadata": {},
   "outputs": [],
   "source": [
    "from data_classes.TextLightningDataModule import TextLightningDataModule\n",
    "from models.ClassifierSystem import LightningClassifier\n",
    "from data_classes.pretrained_embeddings import get_pretrained_embeddings\n",
    "from pytorch_lightning.loggers import TensorBoardLogger, CSVLogger\n",
    "from pytorch_lightning import Trainer\n",
    "from pytorch_lightning.callbacks.early_stopping import EarlyStopping\n",
    "import pandas as pd"
   ]
  },
  {
   "cell_type": "code",
   "execution_count": null,
   "metadata": {},
   "outputs": [],
   "source": [
    "# Data and model settings\n",
    "dataset = \"IMDB\"\n",
    "num_class = 2\n",
    "embedding = \"Glove\"\n",
    "max_vectors = 10000\n",
    "dim = 300\n",
    "\n",
    "\n",
    "# Training settings\n",
    "max_epochs=12\n",
    "patience=4\n",
    "lr=1e-3\n",
    "batch_size=32\n",
    "num_workers=0\n",
    "advanced_metrics=True\n",
    "\n",
    "# Log file:\n",
    "log_file = \"exp1\"\n",
    "log_file_csv = \"exp1_csv\""
   ]
  },
  {
   "cell_type": "code",
   "execution_count": null,
   "metadata": {},
   "outputs": [],
   "source": [
    "vocab, vectors = get_pretrained_embeddings(embedding =embedding, max_vectors = max_vectors, dim = dim)"
   ]
  },
  {
   "cell_type": "code",
   "execution_count": null,
   "metadata": {},
   "outputs": [],
   "source": [
    "imdb_data = TextLightningDataModule(vocab, dataset=dataset, batch_size=batch_size, num_workers=num_workers)"
   ]
  },
  {
   "cell_type": "code",
   "execution_count": null,
   "metadata": {},
   "outputs": [],
   "source": [
    "for model_type in [\"RNN\", \"LSTM\", \"GRU\"]:\n",
    "    for output_layer_type in [\"linear\", \"MLP\"]:\n",
    "        for num_layers in [1, 2]:\n",
    "            for hidden_size in [100, 300]:\n",
    "                name = \"exp1-\" + model_type + \"-\" + output_layer_type + \"-\" + str(num_layers) + \"-\" + str(hidden_size) \n",
    "                logger_tensor = TensorBoardLogger(log_file, name=name)\n",
    "                logger_csv = CSVLogger(log_file_csv, name=name)\n",
    "                trainer = Trainer(max_epochs=max_epochs, gpus=1, auto_select_gpus=True, callbacks=[EarlyStopping(monitor=\"Val Loss\", patience=patience)], logger=[logger_tensor, logger_csv])\n",
    "                classifier = LightningClassifier(num_class=num_class, vocab=vocab, vectors=vectors, embedding_size=dim, learning_rate=lr, num_layers=num_layers, hidden_size=hidden_size, model_type=model_type, attention_type=None, output_layer_type=output_layer_type, advanced_metrics=advanced_metrics)\n",
    "                trainer.fit(classifier, imdb_data)\n",
    "                trainer.test(ckpt_path=\"best\")"
   ]
  },
  {
   "cell_type": "code",
   "execution_count": null,
   "metadata": {},
   "outputs": [],
   "source": [
    "# Combine results into a single csv\n",
    "df_list = []\n",
    "for model_type in [\"RNN\", \"LSTM\", \"GRU\"]:\n",
    "    for output_layer_type in [\"linear\", \"MLP\"]:\n",
    "        for num_layers in [1, 2]:\n",
    "            for hidden_size in [100, 300]:\n",
    "                name = \"exp1-\" + model_type + \"-\" + output_layer_type + \"-\" + str(num_layers) + \"-\" + str(hidden_size) \n",
    "                filename = \"exp1_csv/\"+name+\"/version_0/metrics.csv\"\n",
    "                df = pd.read_csv(filename)\n",
    "                df[\"Model Type\"] = model_type\n",
    "                df[\"Output Layer Type\"] = output_layer_type\n",
    "                df[\"Number of Layers\"] = num_layers\n",
    "                df[\"Hidden Size\"] = hidden_size\n",
    "                df_list.append(df)\n",
    "global_df = pd.concat(df_list)\n",
    "global_df.to_csv(\"results/exp1_all.csv\")"
   ]
  },
  {
   "cell_type": "code",
   "execution_count": null,
   "metadata": {},
   "outputs": [],
   "source": [
    "# Parameter counts\n",
    "# param_count = {}\n",
    "# pytorch_total_params = sum(p.numel() for p in classifier.parameters() if p.requires_grad)\n",
    "# param_count[name] = pytorch_total_params\n",
    "\n",
    "# param_count\n",
    "# {'exp1-RNN-linear-1-100': 40402,\n",
    "#  'exp1-RNN-linear-1-300': 181202,\n",
    "#  'exp1-RNN-linear-2-100': 60602,\n",
    "#  'exp1-RNN-linear-2-300': 361802,\n",
    "#  'exp1-RNN-MLP-1-100': 80702,\n",
    "#  'exp1-RNN-MLP-1-300': 542102,\n",
    "#  'exp1-RNN-MLP-2-100': 100902,\n",
    "#  'exp1-RNN-MLP-2-300': 722702,\n",
    "#  'exp1-LSTM-linear-1-100': 161002,\n",
    "#  'exp1-LSTM-linear-1-300': 723002,\n",
    "#  'exp1-LSTM-linear-2-100': 241802,\n",
    "#  'exp1-LSTM-linear-2-300': 1445402,\n",
    "#  'exp1-LSTM-MLP-1-100': 201302,\n",
    "#  'exp1-LSTM-MLP-1-300': 1083902,\n",
    "#  'exp1-LSTM-MLP-2-100': 282102,\n",
    "#  'exp1-LSTM-MLP-2-300': 1806302,\n",
    "#  'exp1-GRU-linear-1-100': 120802,\n",
    "#  'exp1-GRU-linear-1-300': 542402,\n",
    "#  'exp1-GRU-linear-2-100': 181402,\n",
    "#  'exp1-GRU-linear-2-300': 1084202,\n",
    "#  'exp1-GRU-MLP-1-100': 161102,\n",
    "#  'exp1-GRU-MLP-1-300': 903302,\n",
    "#  'exp1-GRU-MLP-2-100': 221702,\n",
    "#  'exp1-GRU-MLP-2-300': 1445102}"
   ]
  }
 ],
 "metadata": {
  "interpreter": {
   "hash": "cfa97515b48ec924051b6584906c775d898061829fcbf4ab570c29d743c4fef7"
  },
  "kernelspec": {
   "display_name": "Python 3.8.12 64-bit ('deep_learning': conda)",
   "name": "python3"
  },
  "language_info": {
   "codemirror_mode": {
    "name": "ipython",
    "version": 3
   },
   "file_extension": ".py",
   "mimetype": "text/x-python",
   "name": "python",
   "nbconvert_exporter": "python",
   "pygments_lexer": "ipython3",
   "version": "3.8.12"
  },
  "orig_nbformat": 4
 },
 "nbformat": 4,
 "nbformat_minor": 2
}
