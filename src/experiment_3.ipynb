{
 "cells": [
  {
   "cell_type": "markdown",
   "metadata": {},
   "source": [
    "# Experiment 3: Word level embedding"
   ]
  },
  {
   "cell_type": "code",
   "execution_count": null,
   "metadata": {},
   "outputs": [],
   "source": [
    "from data_classes.TextLightningDataModule import TextLightningDataModule\n",
    "from models.ClassifierSystem import LightningClassifier\n",
    "from data_classes.pretrained_embeddings import get_pretrained_embeddings\n",
    "from pytorch_lightning.loggers import TensorBoardLogger, CSVLogger\n",
    "from pytorch_lightning import Trainer\n",
    "from pytorch_lightning.callbacks.early_stopping import EarlyStopping\n",
    "\n",
    "from pytorch_lightning.callbacks.gpu_stats_monitor import GPUStatsMonitor\n",
    "from pytorch_lightning.callbacks import ModelCheckpoint"
   ]
  },
  {
   "cell_type": "code",
   "execution_count": null,
   "metadata": {},
   "outputs": [],
   "source": [
    "# Data and model settings\n",
    "dataset = \"IMDB\"\n",
    "num_class = 2\n",
    "embeddings = [\"Glove\", \"FastText\", \"Word2Vec\"]\n",
    "max_vectors = 20000\n",
    "dim = 300\n",
    "trunc = 234+2*173\n",
    "\n",
    "\n",
    "# Training settings\n",
    "max_epochs = 20\n",
    "patience = 6\n",
    "monitor = \"Val Loss\"\n",
    "lr = 1e-3\n",
    "batch_size = 32\n",
    "num_workers = 0\n",
    "advanced_metrics = False\n",
    "\n",
    "num_layers = 1\n",
    "output_layer_type = \"linear\"\n",
    "embedding_level = \"word\"\n",
    "hidden_size = 100\n",
    "\n",
    "# Log file:\n",
    "log_file = \"exp3\"\n",
    "log_file_csv = \"exp3_csv\"\n"
   ]
  },
  {
   "cell_type": "code",
   "execution_count": null,
   "metadata": {},
   "outputs": [],
   "source": [
    "data = {}\n",
    "vocab = {}\n",
    "vectors = {}\n",
    "for embedding in embeddings:\n",
    "    vocab[embedding], vectors[embedding] = get_pretrained_embeddings(\n",
    "        embedding=embedding, max_vectors=max_vectors, dim=dim)\n",
    "    data[embedding] = TextLightningDataModule(vocab[embedding], dataset=dataset, batch_size=batch_size, num_workers=num_workers, trunc=trunc)\n"
   ]
  },
  {
   "cell_type": "code",
   "execution_count": null,
   "metadata": {},
   "outputs": [],
   "source": [
    "for model_type in [\"LSTM\", \"GRU\"]:\n",
    "    for embedding in embeddings:\n",
    "        name = log_file + \"-\" + model_type + \"-\" + embedding\n",
    "        logger_tensor = TensorBoardLogger(log_file, name=name)\n",
    "        logger_csv = CSVLogger(log_file_csv, name=name)\n",
    "        checkpoint_callback = ModelCheckpoint(monitor=monitor)\n",
    "        trainer = Trainer(max_epochs=max_epochs, gpus=1, auto_select_gpus=True, callbacks=[\n",
    "                          EarlyStopping(monitor=monitor, patience=patience)], logger=[logger_tensor, logger_csv])\n",
    "        classifier = LightningClassifier(embedding_level=embedding_level, num_class=num_class, vocab=vocab[embedding], vectors=vectors[\n",
    "                                         embedding], embedding_size=dim, learning_rate=lr, model_type=model_type, output_layer_type=output_layer_type, advanced_metrics=advanced_metrics, hidden_size=hidden_size)\n",
    "        trainer.fit(classifier, data[embedding])\n",
    "        trainer.test(ckpt_path=\"best\")\n"
   ]
  }
 ],
 "metadata": {
  "interpreter": {
   "hash": "cfa97515b48ec924051b6584906c775d898061829fcbf4ab570c29d743c4fef7"
  },
  "kernelspec": {
   "display_name": "Python 3.8.12 64-bit ('deep_learning': conda)",
   "name": "python3"
  },
  "language_info": {
   "codemirror_mode": {
    "name": "ipython",
    "version": 3
   },
   "file_extension": ".py",
   "mimetype": "text/x-python",
   "name": "python",
   "nbconvert_exporter": "python",
   "pygments_lexer": "ipython3",
   "version": "3.8.12"
  },
  "orig_nbformat": 4
 },
 "nbformat": 4,
 "nbformat_minor": 2
}
