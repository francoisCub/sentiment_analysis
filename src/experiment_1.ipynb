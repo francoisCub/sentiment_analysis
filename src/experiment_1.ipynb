{
 "cells": [
  {
   "cell_type": "code",
   "execution_count": null,
   "metadata": {},
   "outputs": [],
   "source": [
    "from data_classes.TextLightningDataModule import TextLightningDataModule\n",
    "from models.ClassifierSystem import LightningClassifier\n",
    "from data_classes.pretrained_embeddings import get_pretrained_embeddings\n",
    "from pytorch_lightning.loggers import TensorBoardLogger, CSVLogger\n",
    "from pytorch_lightning import Trainer\n",
    "from pytorch_lightning.callbacks.early_stopping import EarlyStopping\n",
    "\n",
    "from pytorch_lightning.callbacks.gpu_stats_monitor import GPUStatsMonitor"
   ]
  },
  {
   "cell_type": "code",
   "execution_count": null,
   "metadata": {},
   "outputs": [],
   "source": [
    "# Data and model settings\n",
    "dataset = \"Yelp\"\n",
    "num_class = 5\n",
    "embedding = \"Glove\"\n",
    "max_vectors = 10000\n",
    "dim = 300\n",
    "\n",
    "\n",
    "# Training settings\n",
    "max_epochs=20\n",
    "patience=3\n",
    "lr=1e-3\n",
    "batch_size=32\n",
    "num_workers=0\n",
    "\n",
    "# Log file:\n",
    "log_file = \"exp1\"\n",
    "log_file_csv = \"exp1_csv\""
   ]
  },
  {
   "cell_type": "code",
   "execution_count": null,
   "metadata": {},
   "outputs": [],
   "source": [
    "vocab, vectors = get_pretrained_embeddings(embedding =embedding, max_vectors = max_vectors, dim = dim)"
   ]
  },
  {
   "cell_type": "code",
   "execution_count": null,
   "metadata": {},
   "outputs": [],
   "source": [
    "imdb_data = TextLightningDataModule(vocab, dataset=dataset, batch_size=batch_size, num_workers=num_workers)"
   ]
  },
  {
   "cell_type": "code",
   "execution_count": null,
   "metadata": {},
   "outputs": [],
   "source": [
    "# logger_tensor = TensorBoardLogger(log_file, name='lstm')\n",
    "# logger_csv = CSVLogger(log_file_csv, name=\"exp_csv\")"
   ]
  },
  {
   "cell_type": "code",
   "execution_count": null,
   "metadata": {},
   "outputs": [],
   "source": [
    "for model_type in [\"RNN\", \"LSTM\", \"GRU\"]:\n",
    "    for output_layer_type in [\"linear\", \"MLP\"]:\n",
    "        for num_layers in [1, 2]:\n",
    "            for hidden_size in [100, 300]:\n",
    "                # , logger=[logger_tensor, logger_csv]\n",
    "                trainer = Trainer(fast_dev_run=True, max_epochs=max_epochs, gpus=1, auto_select_gpus=True, callbacks=[EarlyStopping(monitor=\"Val Loss\", patience=3)])\n",
    "                classifier = LightningClassifier(num_class=num_class, vocab=vocab, vectors=vectors, embedding_size=dim, learning_rate=lr, num_layers=num_layers, hidden_size=hidden_size, model_type=model_type, attention_type=None, output_layer_type=output_layer_type)\n",
    "                trainer.fit(classifier, imdb_data)\n",
    "                # trainer.test(classifier, imdb_data)"
   ]
  },
  {
   "cell_type": "code",
   "execution_count": null,
   "metadata": {},
   "outputs": [],
   "source": []
  }
 ],
 "metadata": {
  "interpreter": {
   "hash": "cfa97515b48ec924051b6584906c775d898061829fcbf4ab570c29d743c4fef7"
  },
  "kernelspec": {
   "display_name": "Python 3.8.11 64-bit ('deep_learning': conda)",
   "name": "python3"
  },
  "language_info": {
   "codemirror_mode": {
    "name": "ipython",
    "version": 3
   },
   "file_extension": ".py",
   "mimetype": "text/x-python",
   "name": "python",
   "nbconvert_exporter": "python",
   "pygments_lexer": "ipython3",
   "version": "3.8.11"
  },
  "orig_nbformat": 4
 },
 "nbformat": 4,
 "nbformat_minor": 2
}
