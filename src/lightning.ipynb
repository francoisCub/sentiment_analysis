{
 "cells": [
  {
   "cell_type": "code",
   "execution_count": null,
   "metadata": {},
   "outputs": [],
   "source": [
    "from data_classes.TextLightningDataModule import TextLightningDataModule\n",
    "from models.ClassifierSystem import LightningClassifier\n",
    "from data_classes.pretrained_embeddings import get_pretrained_embeddings\n",
    "from pytorch_lightning.loggers import TensorBoardLogger, CSVLogger\n",
    "from pytorch_lightning import Trainer\n",
    "from pytorch_lightning.callbacks.early_stopping import EarlyStopping"
   ]
  },
  {
   "cell_type": "code",
   "execution_count": null,
   "metadata": {},
   "outputs": [],
   "source": [
    "vocab, vectors = get_pretrained_embeddings()"
   ]
  },
  {
   "cell_type": "code",
   "execution_count": null,
   "metadata": {},
   "outputs": [],
   "source": [
    "imdb_data = TextLightningDataModule(vocab, dataset=\"IMDB\")"
   ]
  },
  {
   "cell_type": "code",
   "execution_count": null,
   "metadata": {},
   "outputs": [],
   "source": [
    "classifier = LightningClassifier(num_class=2, vocab=vocab, vectors=vectors, embedding_size=300, learning_rate=1e-3, num_layers=1, hidden_size=100)"
   ]
  },
  {
   "cell_type": "code",
   "execution_count": null,
   "metadata": {},
   "outputs": [],
   "source": [
    "logger_tensor = TensorBoardLogger('exp_logs', name='lstm')\n",
    "logger_csv = CSVLogger(\"csv_logs\", name=\"exp_csv\")"
   ]
  },
  {
   "cell_type": "code",
   "execution_count": null,
   "metadata": {},
   "outputs": [],
   "source": [
    "trainer = Trainer(max_epochs=10, gpus=1, auto_select_gpus=True, callbacks=[EarlyStopping(monitor=\"Val Loss\", patience=3)], logger=[logger_tensor, logger_csv])\n",
    "# , track_grad_norm=2, accumulate_grad_batches=8, logger=[logger]"
   ]
  },
  {
   "cell_type": "code",
   "execution_count": null,
   "metadata": {},
   "outputs": [],
   "source": [
    "# Check everything is working here:\n",
    "# for rnn in [\"RNN\", \"LSTM\", \"GRU\"]:\n",
    "#     for att in [None, \"last_hidden_layer\", \"self\"]:\n",
    "#         for output_layer_type in [\"linear\", \"MLP\"]:\n",
    "#             for num_layers in [1, 2]:\n",
    "#                 for hidden_size in [100, 300]:\n",
    "#                     classifier = LightningClassifier(num_class=5, vocab=vocab, vectors=vectors, embedding_size=300, learning_rate=1e-3, num_layers=num_layers, hidden_size=hidden_size, model_type=rnn, attention_type=att, output_layer_type=output_layer_type)\n",
    "#                     trainer.fit(classifier, imdb_data)\n"
   ]
  },
  {
   "cell_type": "code",
   "execution_count": null,
   "metadata": {},
   "outputs": [],
   "source": [
    "# import torch\n",
    "# for batch in imdb_data.val_dataloader():\n",
    "#     x, y, l = batch\n",
    "#     print(y)\n",
    "#     y_pred = classifier.model(x.to(\"cpu\"), l.to(\"cpu\"))\n",
    "#     print(y_pred)\n",
    "#     loss = torch.nn.CrossEntropyLoss()(y_pred, y)\n",
    "#     labels_hat = torch.argmax(y_pred, dim=1)\n",
    "#     test_acc = torch.sum(labels_hat == y).item() / (len(y) * 1.0)\n",
    "#     break"
   ]
  },
  {
   "cell_type": "code",
   "execution_count": null,
   "metadata": {},
   "outputs": [],
   "source": [
    "trainer.test(classifier, imdb_data)"
   ]
  },
  {
   "cell_type": "code",
   "execution_count": null,
   "metadata": {},
   "outputs": [],
   "source": [
    "# trainer.tune(classifier, imdb_data)"
   ]
  },
  {
   "cell_type": "code",
   "execution_count": null,
   "metadata": {},
   "outputs": [],
   "source": [
    "# classifier.batch_size"
   ]
  },
  {
   "cell_type": "code",
   "execution_count": null,
   "metadata": {},
   "outputs": [],
   "source": [
    "classifier.learning_rate"
   ]
  },
  {
   "cell_type": "code",
   "execution_count": null,
   "metadata": {},
   "outputs": [],
   "source": [
    "trainer.fit(classifier, imdb_data)"
   ]
  },
  {
   "cell_type": "code",
   "execution_count": null,
   "metadata": {},
   "outputs": [],
   "source": [
    "trainer.test(classifier, imdb_data)"
   ]
  },
  {
   "cell_type": "code",
   "execution_count": null,
   "metadata": {},
   "outputs": [],
   "source": [
    "# Run learning rate finder\n",
    "# lr_finder = trainer.tuner.lr_find(classifier, imdb_data)"
   ]
  },
  {
   "cell_type": "code",
   "execution_count": null,
   "metadata": {},
   "outputs": [],
   "source": [
    "# Plot with\n",
    "# fig = lr_finder.plot(suggest=True)\n",
    "# fig.show()"
   ]
  },
  {
   "cell_type": "code",
   "execution_count": null,
   "metadata": {},
   "outputs": [],
   "source": [
    "# Pick point based on plot, or get suggestion\n",
    "# new_lr = lr_finder.suggestion()\n",
    "# new_lr"
   ]
  },
  {
   "cell_type": "code",
   "execution_count": null,
   "metadata": {},
   "outputs": [],
   "source": [
    "import torch\n",
    "import torchmetrics.functional as F\n",
    "\n",
    "preds = torch.tensor([0, 0, 0, 0, 0, 0, 0, 0, 0, 0, 0, 1, 0, 0, 0, 0, 0, 0, 0, 0])\n",
    "target = torch.tensor([0, 0, 1, 0, 0, 1, 1, 1, 0, 0, 0, 0, 1, 0, 0, 1, 1, 0, 0, 1])\n",
    "\n",
    "print(F.confusion_matrix(preds, target, num_classes=2))\n",
    "print(F.precision_recall(preds, target, num_classes=2, multiclass=True))\n",
    "print(F.accuracy(preds, target, num_classes=2))"
   ]
  },
  {
   "cell_type": "code",
   "execution_count": null,
   "metadata": {},
   "outputs": [],
   "source": [
    "F.confusion_matrix(preds, target, num_classes=2)"
   ]
  }
 ],
 "metadata": {
  "interpreter": {
   "hash": "cfa97515b48ec924051b6584906c775d898061829fcbf4ab570c29d743c4fef7"
  },
  "kernelspec": {
   "display_name": "Python 3.8.11 64-bit ('deep_learning': conda)",
   "name": "python3"
  },
  "language_info": {
   "codemirror_mode": {
    "name": "ipython",
    "version": 3
   },
   "file_extension": ".py",
   "mimetype": "text/x-python",
   "name": "python",
   "nbconvert_exporter": "python",
   "pygments_lexer": "ipython3",
   "version": "3.8.11"
  },
  "orig_nbformat": 4
 },
 "nbformat": 4,
 "nbformat_minor": 2
}
