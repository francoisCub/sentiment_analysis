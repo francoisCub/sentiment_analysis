{
 "cells": [
  {
   "cell_type": "markdown",
   "metadata": {},
   "source": [
    "# Experiment 4: Document level embedding"
   ]
  },
  {
   "cell_type": "code",
   "execution_count": null,
   "metadata": {},
   "outputs": [],
   "source": [
    "from data_classes.TextLightningDataModule import TextLightningDataModule\n",
    "from models.ClassifierSystem import LightningClassifier\n",
    "from data_classes.pretrained_embeddings import get_pretrained_embeddings\n",
    "from pytorch_lightning.loggers import TensorBoardLogger, CSVLogger\n",
    "from pytorch_lightning import Trainer\n",
    "from pytorch_lightning.callbacks.early_stopping import EarlyStopping\n",
    "\n",
    "from pytorch_lightning.callbacks.gpu_stats_monitor import GPUStatsMonitor\n",
    "from pytorch_lightning.callbacks import ModelCheckpoint\n"
   ]
  },
  {
   "cell_type": "code",
   "execution_count": null,
   "metadata": {},
   "outputs": [],
   "source": [
    "# Data and model settings\n",
    "dataset = \"IMDB\"\n",
    "num_class = 2\n",
    "embedding = \"Glove\"\n",
    "max_vectors = 20000\n",
    "dim = 300\n",
    "trunc = 234+2*173\n",
    "\n",
    "\n",
    "# Training settings\n",
    "max_epochs = 20\n",
    "patience = 6\n",
    "monitor = \"Val Loss\"\n",
    "lr = 1e-3\n",
    "batch_size = 32\n",
    "num_workers = 0\n",
    "advanced_metrics = False\n",
    "\n",
    "num_layers = 1\n",
    "\n",
    "# Log file:\n",
    "log_file = \"exp4\"\n",
    "log_file_csv = \"exp4_csv\"\n"
   ]
  },
  {
   "cell_type": "code",
   "execution_count": null,
   "metadata": {},
   "outputs": [],
   "source": [
    "vocab, vectors = get_pretrained_embeddings(\n",
    "    embedding=embedding, max_vectors=max_vectors, dim=dim)\n"
   ]
  },
  {
   "cell_type": "code",
   "execution_count": null,
   "metadata": {},
   "outputs": [],
   "source": [
    "imdb_data = TextLightningDataModule(\n",
    "    vocab, dataset=dataset, batch_size=batch_size, num_workers=num_workers, trunc=trunc)\n"
   ]
  },
  {
   "cell_type": "code",
   "execution_count": null,
   "metadata": {},
   "outputs": [],
   "source": [
    "imdb_data_bert = TextLightningDataModule(\n",
    "    vocab, dataset=\"IMDBSentence\", batch_size=batch_size, num_workers=num_workers, trunc=trunc, format=\"bert\", shuffle=True)\n"
   ]
  },
  {
   "cell_type": "code",
   "execution_count": null,
   "metadata": {},
   "outputs": [],
   "source": [
    "imdb_data_wme = TextLightningDataModule(\n",
    "    vocab, dataset=\"IMDBSentence\", batch_size=batch_size, num_workers=num_workers, trunc=trunc, format=\"wme\", shuffle=True)\n"
   ]
  },
  {
   "cell_type": "code",
   "execution_count": null,
   "metadata": {},
   "outputs": [],
   "source": [
    "for _ in range(5):\n",
    "    for (model_type, dim) in [(\"pretrained-average\", 300), (\"from-scratch-average\", 300), (\"sentence-bert\", 384), (\"wme\", 300)]:\n",
    "        for output_layer_type in [\"linear\", \"MLP\"]:\n",
    "            name = log_file + \"-\" + model_type + \"-\" + output_layer_type\n",
    "            logger_tensor = TensorBoardLogger(log_file, name=name)\n",
    "            logger_csv = CSVLogger(log_file_csv, name=name)\n",
    "            checkpoint_callback = ModelCheckpoint(monitor=monitor)\n",
    "            trainer = Trainer(max_epochs=max_epochs, gpus=1, auto_select_gpus=True, callbacks=[\n",
    "                              EarlyStopping(monitor=monitor, patience=patience)], logger=[logger_tensor, logger_csv])\n",
    "            classifier = LightningClassifier(embedding_level=\"sentence\", num_class=num_class, vocab=vocab, vectors=vectors, embedding_size=dim,\n",
    "                                             learning_rate=lr, model_type=model_type, output_layer_type=output_layer_type, advanced_metrics=advanced_metrics)\n",
    "            if model_type == \"sentence-bert\":\n",
    "                trainer.fit(classifier, imdb_data_bert)\n",
    "            elif model_type == \"wme\":\n",
    "                trainer.fit(classifier, imdb_data_wme)\n",
    "            else:\n",
    "                trainer.fit(classifier, imdb_data)\n",
    "            trainer.test(ckpt_path=\"best\")\n"
   ]
  }
 ],
 "metadata": {
  "interpreter": {
   "hash": "cfa97515b48ec924051b6584906c775d898061829fcbf4ab570c29d743c4fef7"
  },
  "kernelspec": {
   "display_name": "Python 3.8.12 64-bit ('deep_learning': conda)",
   "name": "python3"
  },
  "language_info": {
   "codemirror_mode": {
    "name": "ipython",
    "version": 3
   },
   "file_extension": ".py",
   "mimetype": "text/x-python",
   "name": "python",
   "nbconvert_exporter": "python",
   "pygments_lexer": "ipython3",
   "version": "3.8.12"
  },
  "orig_nbformat": 4
 },
 "nbformat": 4,
 "nbformat_minor": 2
}
