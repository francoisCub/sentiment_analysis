{
 "cells": [
  {
   "cell_type": "markdown",
   "metadata": {},
   "source": [
    "# Experiment 5: Performance on differnet datasets"
   ]
  },
  {
   "cell_type": "code",
   "execution_count": null,
   "metadata": {},
   "outputs": [],
   "source": [
    "from data_classes.TextLightningDataModule import TextLightningDataModule\n",
    "from models.ClassifierSystem import LightningClassifier\n",
    "from data_classes.pretrained_embeddings import get_pretrained_embeddings\n",
    "from pytorch_lightning.loggers import TensorBoardLogger, CSVLogger\n",
    "from pytorch_lightning import Trainer\n",
    "from pytorch_lightning.callbacks.early_stopping import EarlyStopping\n",
    "import pandas as pd\n"
   ]
  },
  {
   "cell_type": "code",
   "execution_count": null,
   "metadata": {},
   "outputs": [],
   "source": [
    "# Data and model settings\n",
    "# dataset = \"IMDB\"\n",
    "# num_class = 2\n",
    "embedding = \"Glove\"\n",
    "max_vectors = 20000\n",
    "dim = 300\n",
    "trunc = 234+2*173\n",
    "\n",
    "\n",
    "# Training settings\n",
    "max_epochs = None\n",
    "max_steps = 16000\n",
    "patience = 6\n",
    "monitor = \"Val Loss\"\n",
    "lr = 1e-3\n",
    "batch_size = 128\n",
    "num_workers = 0\n",
    "advanced_metrics = False\n",
    "\n",
    "embedding_level = \"word\"\n",
    "num_layers = 1\n",
    "output_layer_type = \"linear\"\n",
    "hidden_size = 100\n",
    "\n",
    "# Log file:\n",
    "log_file = \"exp5\"\n",
    "log_file_csv = \"exp5_csv\"\n",
    "\n"
   ]
  },
  {
   "cell_type": "code",
   "execution_count": null,
   "metadata": {},
   "outputs": [],
   "source": [
    "vocab, vectors = get_pretrained_embeddings(\n",
    "    embedding=embedding, max_vectors=max_vectors, dim=dim)\n"
   ]
  },
  {
   "cell_type": "code",
   "execution_count": null,
   "metadata": {},
   "outputs": [],
   "source": [
    "data = {}"
   ]
  },
  {
   "cell_type": "code",
   "execution_count": null,
   "metadata": {},
   "outputs": [],
   "source": [
    "dataset=\"IMDB\"\n",
    "data[\"IMDB\"] = TextLightningDataModule(vocab, dataset=dataset, batch_size=batch_size, num_workers=num_workers, trunc=trunc)"
   ]
  },
  {
   "cell_type": "code",
   "execution_count": null,
   "metadata": {},
   "outputs": [],
   "source": [
    "dataset=\"Yelp\"\n",
    "data[\"Yelp\"] = TextLightningDataModule(vocab, dataset=dataset, batch_size=batch_size, num_workers=num_workers, trunc=trunc)"
   ]
  },
  {
   "cell_type": "code",
   "execution_count": null,
   "metadata": {},
   "outputs": [],
   "source": [
    "for model_type in [\"LSTM\", \"GRU\"]:\n",
    "    for (dataset, num_class) in [(\"IMDB\", 2), (\"Yelp\", 5)]:\n",
    "        name = log_file + \"-\" + model_type + \"-\" + dataset + \"-\" + str(num_class)\n",
    "        logger_tensor = TensorBoardLogger(log_file, name=name)\n",
    "        logger_csv = CSVLogger(log_file_csv, name=name)\n",
    "        actual_patience = patience if dataset == \"IMDB\" else 1\n",
    "        trainer = Trainer(max_epochs=max_epochs, max_steps=max_steps, gpus=1, auto_select_gpus=True, callbacks=[EarlyStopping(monitor=monitor, patience=actual_patience)], logger=[logger_tensor, logger_csv])\n",
    "        classifier = LightningClassifier(embedding_level=embedding_level, num_class=num_class, vocab=vocab, vectors=vectors, embedding_size=dim, learning_rate=lr, model_type=model_type, output_layer_type=output_layer_type, advanced_metrics=advanced_metrics)\n",
    "        trainer.fit(classifier, data[dataset])\n",
    "        trainer.test(ckpt_path=\"best\")\n"
   ]
  },
  {
   "cell_type": "code",
   "execution_count": null,
   "metadata": {},
   "outputs": [],
   "source": [
    "df_list=[]\n",
    "for model_type in [\"LSTM\", \"GRU\"]:\n",
    "    for (dataset, num_class) in [(\"IMDB\", 2), (\"Yelp\", 5)]:\n",
    "        name = log_file + \"-\" + model_type + \"-\" + dataset + \"-\" + str(num_class)\n",
    "        filename = \"exp5_csv/\"+name+\"/version_0/metrics.csv\"\n",
    "        df = pd.read_csv(filename)\n",
    "        df[\"Model Type\"] = model_type\n",
    "        df[\"Dataset\"] = dataset\n",
    "        df[\"Number of Classes\"] = num_class\n",
    "        df_list.append(df)\n",
    "global_df = pd.concat(df_list)\n",
    "global_df.to_csv(\"results/exp4_all.csv\")"
   ]
  }
 ],
 "metadata": {
  "interpreter": {
   "hash": "cfa97515b48ec924051b6584906c775d898061829fcbf4ab570c29d743c4fef7"
  },
  "kernelspec": {
   "display_name": "Python 3.8.12 64-bit ('deep_learning': conda)",
   "name": "python3"
  },
  "language_info": {
   "codemirror_mode": {
    "name": "ipython",
    "version": 3
   },
   "file_extension": ".py",
   "mimetype": "text/x-python",
   "name": "python",
   "nbconvert_exporter": "python",
   "pygments_lexer": "ipython3",
   "version": "3.8.12"
  },
  "orig_nbformat": 4
 },
 "nbformat": 4,
 "nbformat_minor": 2
}
