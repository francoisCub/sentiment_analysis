{
 "cells": [
  {
   "cell_type": "code",
   "execution_count": null,
   "metadata": {},
   "outputs": [],
   "source": [
    "import numpy as np\n",
    "import pandas as pd\n",
    "import matplotlib.pyplot as plt\n",
    "# import seaborn as sns\n",
    "# sns.set_theme(style=\"darkgrid\")\n",
    "\n"
   ]
  },
  {
   "cell_type": "code",
   "execution_count": null,
   "metadata": {},
   "outputs": [],
   "source": [
    "# # Exp 1\n",
    "# df_list = []\n",
    "# for model_type in [\"RNN\", \"LSTM\", \"GRU\"]:\n",
    "#     for output_layer_type in [\"linear\", \"MLP\"]:\n",
    "#         for num_layers in [1, 2]:\n",
    "#             for hidden_size in [100, 300]:\n",
    "#                 name = \"exp1-\" + model_type + \"-\" + output_layer_type + \"-\" + str(num_layers) + \"-\" + str(hidden_size) \n",
    "#                 filename = \"exp1_csv/\"+name+\"/version_0/metrics.csv\"\n",
    "#                 df = pd.read_csv(filename)\n",
    "#                 df[\"Model Type\"] = model_type\n",
    "#                 df[\"Output Layer Type\"] = output_layer_type\n",
    "#                 df[\"Number of Layers\"] = num_layers\n",
    "#                 df[\"Hidden Size\"] = hidden_size\n",
    "#                 df_list.append(df)"
   ]
  },
  {
   "cell_type": "code",
   "execution_count": null,
   "metadata": {},
   "outputs": [],
   "source": [
    "# df_list = []\n",
    "# log_file = \"exp4\"\n",
    "# for i in range(5):\n",
    "#     for (model_type, dim) in [(\"pretrained-average\", 300), (\"from-scratch-average\", 300), (\"sentence-bert\", 384), (\"wme\", 300)]: # wme, sentence-bert, (\"pretrained-average\", 300), (\"from-scratch-average\", 300),\n",
    "#         for output_layer_type in [\"linear\", \"MLP\"]:\n",
    "#             name = log_file + \"-\" + model_type + \"-\" + output_layer_type\n",
    "#             filename = \"exp4_csv/\"+name+\"/version_\"+str(i)+\"/metrics.csv\"\n",
    "#             df = pd.read_csv(filename)\n",
    "#             df[\"Model Type\"] = model_type\n",
    "#             df[\"Output Layer Type\"] = output_layer_type\n",
    "#             df[\"Trial\"] = i\n",
    "#             df[\"Embedding Size\"] = dim\n",
    "#             df_list.append(df)"
   ]
  },
  {
   "cell_type": "code",
   "execution_count": null,
   "metadata": {},
   "outputs": [],
   "source": [
    "# global_df = pd.concat(df_list)\n",
    "global_df = pd.read_csv(\"exp1_all.csv\")"
   ]
  },
  {
   "cell_type": "code",
   "execution_count": null,
   "metadata": {},
   "outputs": [],
   "source": [
    "global_df.head()"
   ]
  },
  {
   "cell_type": "code",
   "execution_count": null,
   "metadata": {},
   "outputs": [],
   "source": [
    "global_df[global_df[\"Test Acc\"].notna()]"
   ]
  },
  {
   "cell_type": "code",
   "execution_count": null,
   "metadata": {},
   "outputs": [],
   "source": [
    "global_df[global_df[\"Val Acc\"].notna()]"
   ]
  },
  {
   "cell_type": "code",
   "execution_count": null,
   "metadata": {},
   "outputs": [],
   "source": [
    "# Selects the dataframe of one experiment\n",
    "one_df = global_df[(global_df[\"Number of Layers\"] == 1) & (global_df[\"Model Type\"] == \"RNN\") & (global_df[\"Output Layer Type\"] == \"linear\") & (global_df[\"Hidden Size\"] == 300)]"
   ]
  },
  {
   "cell_type": "code",
   "execution_count": null,
   "metadata": {},
   "outputs": [],
   "source": [
    "# Select df without NaN \"Val Loss\" values\n",
    "one_df = one_df[one_df[\"Val Loss\"].notna()]\n"
   ]
  },
  {
   "cell_type": "code",
   "execution_count": null,
   "metadata": {},
   "outputs": [],
   "source": [
    "# Convert to numpy\n",
    "one_df[\"step\"].to_numpy()"
   ]
  },
  {
   "cell_type": "code",
   "execution_count": null,
   "metadata": {},
   "outputs": [],
   "source": [
    "# Line plot of a dataframe\n",
    "# sns.relplot(x=\"step\", y=\"Val Loss\", data=one_df)"
   ]
  },
  {
   "cell_type": "code",
   "execution_count": null,
   "metadata": {},
   "outputs": [],
   "source": [
    "# plt.plot(one_df[\"step\"].to_numpy(), one_df[\"Val Loss\"].to_numpy())"
   ]
  },
  {
   "cell_type": "code",
   "execution_count": null,
   "metadata": {},
   "outputs": [],
   "source": [
    "# Reads all csv\n",
    "# df_list_2 = []\n",
    "# log_file = \"exp2\"\n",
    "# for model_type in [\"LSTM\", \"GRU\", \"RNN\"]: # \n",
    "#     for attention_type in [\"none\", \"last_hidden_layer\", \"self\"]:\n",
    "#         for hidden_size in [100]:\n",
    "#             if attention_type is None:\n",
    "#                 name = log_file + \"-\" + model_type + \"-none-\" + str(hidden_size)\n",
    "#             else:\n",
    "#                 name = log_file + \"-\" + model_type + \"-\" + attention_type + \"-\" + str(hidden_size)\n",
    "#             filename = \"exp2_csv/\"+name+\"/version_0/metrics.csv\"\n",
    "#             df = pd.read_csv(filename)\n",
    "#             df[\"Model Type\"] = model_type\n",
    "#             df[\"Attention\"] = attention_type\n",
    "#             df_list_2.append(df)"
   ]
  },
  {
   "cell_type": "code",
   "execution_count": null,
   "metadata": {},
   "outputs": [],
   "source": [
    "# global_df_2 = pd.concat(df_list_2)\n",
    "global_df_2 = pd.read_csv(\"exp2_all.csv\")"
   ]
  },
  {
   "cell_type": "code",
   "execution_count": null,
   "metadata": {},
   "outputs": [],
   "source": [
    "global_df_2.head()"
   ]
  },
  {
   "cell_type": "code",
   "execution_count": null,
   "metadata": {},
   "outputs": [],
   "source": [
    "# Selects on experiments\n",
    "one_df_2 = global_df_2[(global_df_2[\"Model Type\"] == \"RNN\") & (global_df_2[\"Attention\"] == \"none\")]"
   ]
  },
  {
   "cell_type": "code",
   "execution_count": null,
   "metadata": {},
   "outputs": [],
   "source": [
    "one_df_2.head()"
   ]
  },
  {
   "cell_type": "code",
   "execution_count": null,
   "metadata": {},
   "outputs": [],
   "source": [
    "# Select \"Test Acc\" (only 1 per experiments)\n",
    "one_df_2 = one_df_2[one_df_2[\"Test Acc\"].notna()]"
   ]
  },
  {
   "cell_type": "code",
   "execution_count": null,
   "metadata": {},
   "outputs": [],
   "source": [
    "one_df_2.head()"
   ]
  },
  {
   "cell_type": "code",
   "execution_count": null,
   "metadata": {},
   "outputs": [],
   "source": [
    "# Selects Test Accuracies\n",
    "one_df_2 = global_df_2[global_df_2[\"Test Acc\"].notna()]\n",
    "one_df_2"
   ]
  }
 ],
 "metadata": {
  "interpreter": {
   "hash": "cfa97515b48ec924051b6584906c775d898061829fcbf4ab570c29d743c4fef7"
  },
  "kernelspec": {
   "display_name": "Python 3.8.12 64-bit ('deep_learning': conda)",
   "name": "python3"
  },
  "language_info": {
   "codemirror_mode": {
    "name": "ipython",
    "version": 3
   },
   "file_extension": ".py",
   "mimetype": "text/x-python",
   "name": "python",
   "nbconvert_exporter": "python",
   "pygments_lexer": "ipython3",
   "version": "3.8.12"
  },
  "orig_nbformat": 4
 },
 "nbformat": 4,
 "nbformat_minor": 2
}
