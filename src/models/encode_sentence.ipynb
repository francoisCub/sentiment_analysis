{
 "cells": [
  {
   "cell_type": "markdown",
   "metadata": {},
   "source": [
    "Pieces of code to encode the IMDB dataset into sentence: WME and BERT"
   ]
  },
  {
   "cell_type": "code",
   "execution_count": null,
   "metadata": {},
   "outputs": [],
   "source": [
    "from torchtext.datasets import IMDB\n",
    "import torch\n",
    "from sentence_transformers import SentenceTransformer\n",
    "import numpy as np\n",
    "from wme import compute_wme"
   ]
  },
  {
   "cell_type": "code",
   "execution_count": null,
   "metadata": {},
   "outputs": [],
   "source": [
    "root_dir=\".././data\""
   ]
  },
  {
   "cell_type": "code",
   "execution_count": null,
   "metadata": {},
   "outputs": [],
   "source": [
    "imdbs_train, imdbs_test = IMDB(root_dir)"
   ]
  },
  {
   "cell_type": "code",
   "execution_count": null,
   "metadata": {},
   "outputs": [],
   "source": [
    "# Used for WME, then call encode_wme.sh on the .txt\n",
    "f = open(root_dir+\"/IMDB_train.txt\", \"a\", encoding=\"utf-8\")\n",
    "for label, text in imdbs_train:\n",
    "    f.write(text + \"\\n\")\n",
    "f.close()\n",
    "f = open(root_dir+\"/IMDB_test.txt\", \"a\", encoding=\"utf-8\")\n",
    "for label, text in imdbs_test:\n",
    "    f.write(text + \"\\n\")\n",
    "f.close()"
   ]
  },
  {
   "cell_type": "code",
   "execution_count": null,
   "metadata": {},
   "outputs": [],
   "source": [
    "compute_wme(root_dir+\"/IMDB_train.txt\", R=300, D_min=1, D_max=6, gamma=1.0, nuw_max=500, wv_name=\"word2vec-google-news-300\", exp_id=\"train_300\", no_cache=False)"
   ]
  },
  {
   "cell_type": "code",
   "execution_count": null,
   "metadata": {},
   "outputs": [],
   "source": [
    "compute_wme(root_dir+\"/IMDB_test.txt\", R=300, D_min=1, D_max=6, gamma=1.0, nuw_max=500, wv_name=\"word2vec-google-news-300\", exp_id=\"test_300\", no_cache=False)"
   ]
  },
  {
   "cell_type": "code",
   "execution_count": null,
   "metadata": {},
   "outputs": [],
   "source": [
    "train=True\n",
    "imdbs = imdbs_train if train else imdbs_test"
   ]
  },
  {
   "cell_type": "code",
   "execution_count": null,
   "metadata": {},
   "outputs": [],
   "source": [
    "# BERT sentence encoding of train set\n",
    "model = SentenceTransformer('all-MiniLM-L6-v2', cache_folder=\".pretrained_model_cache\")\n",
    "model.max_seq_length = 512\n",
    "imdbs = [x for x in imdbs]\n",
    "bert_vectors_train = model.encode([x for _, x in imdbs], convert_to_tensor=True, show_progress_bar=True, batch_size=16)\n"
   ]
  },
  {
   "cell_type": "code",
   "execution_count": null,
   "metadata": {},
   "outputs": [],
   "source": [
    "torch.save(bert_vectors_train, root_dir+'/IMDB_bert_train.pt')"
   ]
  },
  {
   "cell_type": "code",
   "execution_count": null,
   "metadata": {},
   "outputs": [],
   "source": [
    "train=False\n",
    "imdbs = imdbs_train if train else imdbs_test"
   ]
  },
  {
   "cell_type": "code",
   "execution_count": null,
   "metadata": {},
   "outputs": [],
   "source": [
    "# BERT sentence encoding of test set\n",
    "model = SentenceTransformer('all-MiniLM-L6-v2', cache_folder=\".pretrained_model_cache\")\n",
    "model.max_seq_length = 512\n",
    "imdbs = [x for x in imdbs]\n",
    "bert_vectors_test = model.encode([x for _, x in imdbs], convert_to_tensor=True, show_progress_bar=True, batch_size=16)\n"
   ]
  },
  {
   "cell_type": "code",
   "execution_count": null,
   "metadata": {},
   "outputs": [],
   "source": [
    "torch.save(bert_vectors_test, root_dir+'/IMDB_bert_test.pt')"
   ]
  }
 ],
 "metadata": {
  "interpreter": {
   "hash": "cfa97515b48ec924051b6584906c775d898061829fcbf4ab570c29d743c4fef7"
  },
  "kernelspec": {
   "display_name": "Python 3.8.12 64-bit ('deep_learning': conda)",
   "name": "python3"
  },
  "language_info": {
   "codemirror_mode": {
    "name": "ipython",
    "version": 3
   },
   "file_extension": ".py",
   "mimetype": "text/x-python",
   "name": "python",
   "nbconvert_exporter": "python",
   "pygments_lexer": "ipython3",
   "version": "3.9.4"
  },
  "orig_nbformat": 4
 },
 "nbformat": 4,
 "nbformat_minor": 2
}
